{
 "cells": [
  {
   "cell_type": "markdown",
   "id": "d4ed039a",
   "metadata": {},
   "source": [
    "# Notebook for Backtesting the Strategy Against Historical Filings"
   ]
  },
  {
   "cell_type": "code",
   "execution_count": 2,
   "id": "b8806c9d",
   "metadata": {},
   "outputs": [],
   "source": [
    "from follow_the_leaders import Backtester"
   ]
  },
  {
   "cell_type": "code",
   "execution_count": null,
   "id": "9869e9ed",
   "metadata": {},
   "outputs": [],
   "source": []
  }
 ],
 "metadata": {
  "kernelspec": {
   "display_name": "follow-the-leaders-py3.11",
   "language": "python",
   "name": "python3"
  },
  "language_info": {
   "codemirror_mode": {
    "name": "ipython",
    "version": 3
   },
   "file_extension": ".py",
   "mimetype": "text/x-python",
   "name": "python",
   "nbconvert_exporter": "python",
   "pygments_lexer": "ipython3",
   "version": "3.11.13"
  }
 },
 "nbformat": 4,
 "nbformat_minor": 5
}
